{
  "nbformat": 4,
  "nbformat_minor": 0,
  "metadata": {
    "colab": {
      "provenance": []
    },
    "kernelspec": {
      "name": "python3",
      "display_name": "Python 3"
    },
    "language_info": {
      "name": "python"
    }
  },
  "cells": [
    {
      "cell_type": "markdown",
      "source": [
        "#Data Science Tools and Ecosystem"
      ],
      "metadata": {
        "id": "jzSSytCwBQxp"
      }
    },
    {
      "cell_type": "markdown",
      "source": [
        "In this notebook, Data Science Tools and Ecosystem are summarized."
      ],
      "metadata": {
        "id": "ncJNcbFyB4zt"
      }
    },
    {
      "cell_type": "markdown",
      "source": [
        "**Objectives:**\n",
        "- Describe the components of a Data Scientist's toolkit and list various tool categories.\n",
        "- List examples of open-source tools used in data science.\n",
        "- Describe the relevant features of open-source tools.\n",
        "- List examples of commercial and cloud-based data science tools."
      ],
      "metadata": {
        "id": "KdP4y1Z0Fub_"
      }
    },
    {
      "cell_type": "markdown",
      "source": [
        "Some of the popular languages that Data Scientists use are:\n",
        "1. Python\n",
        "2. R\n",
        "3. Julia\n"
      ],
      "metadata": {
        "id": "kV918OwzCNO6"
      }
    },
    {
      "cell_type": "markdown",
      "source": [
        "Some of the commonly used libraries used by Data Scientists include:\n",
        "1. Matplotlib\n",
        "2. Pandas\n",
        "3. Scikit-learn"
      ],
      "metadata": {
        "id": "_FW7QK6FCxU-"
      }
    },
    {
      "cell_type": "markdown",
      "source": [
        "|Data Science Tools|\n",
        "|--------------------|\n",
        "|MATLAB|\n",
        "|Jupyter Notebook|\n",
        "|RStudio|"
      ],
      "metadata": {
        "id": "k93rwdXKDcC1"
      }
    },
    {
      "cell_type": "markdown",
      "source": [
        "###Below are a few examples of evaluating arithmetic expressions in Python.\n"
      ],
      "metadata": {
        "id": "NRLV2Kl1EgVa"
      }
    },
    {
      "cell_type": "code",
      "source": [
        "# This a simple arithmetic expression to mutiply then add integers\n",
        "(3*4)+5"
      ],
      "metadata": {
        "colab": {
          "base_uri": "https://localhost:8080/"
        },
        "id": "C4dzjDsLEy7V",
        "outputId": "e67512cb-93fb-4c5e-b0b9-02c9e019b1ef"
      },
      "execution_count": 1,
      "outputs": [
        {
          "output_type": "execute_result",
          "data": {
            "text/plain": [
              "17"
            ]
          },
          "metadata": {},
          "execution_count": 1
        }
      ]
    },
    {
      "cell_type": "code",
      "source": [
        "#This will convert 200 minutes to hours by diving by 60\n",
        "200/60"
      ],
      "metadata": {
        "colab": {
          "base_uri": "https://localhost:8080/"
        },
        "id": "5F_yu-TQFUsy",
        "outputId": "72aef95e-85ee-4af8-da0f-80e578bb56bb"
      },
      "execution_count": 2,
      "outputs": [
        {
          "output_type": "execute_result",
          "data": {
            "text/plain": [
              "3.3333333333333335"
            ]
          },
          "metadata": {},
          "execution_count": 2
        }
      ]
    },
    {
      "cell_type": "markdown",
      "source": [
        "##Author\n",
        "Maryam Alqarrous"
      ],
      "metadata": {
        "id": "5fRcnatjGf9L"
      }
    }
  ]
}